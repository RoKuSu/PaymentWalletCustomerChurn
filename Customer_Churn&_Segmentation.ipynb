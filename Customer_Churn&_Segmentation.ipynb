{
 "cells": [
  {
   "cell_type": "markdown",
   "metadata": {},
   "source": [
    "## Part 1: Customer Churn Analysis\n",
    "### Steps followed:\n",
    "#### 1. I used feature_selector library to remove features with high missing values, 0 importance, low_importance & high collinearity\n",
    "#### 2. Then I reduced Dimensionality using PCA\n",
    "#### 3. Then I used combination of  SMOTE+ENN from imblearn library to down-sample majority class & up-sample minority class\n",
    "#### 4. Then I manually trained models using tree based Classification algorithms.\n",
    "#### 5. Then I used random or grid search for hyper parameter tuning.\n",
    "#### 6. Alternatively one can try combination of different over sampling, under sampling techniques, algos, parameter tuning to get best f1 score,accuracy, precision, recall\n",
    "\n",
    "#### In this problem because we have really high class imbalance we need to somehow improve recall for the churn class, we can negotiate on precision but not with a bad accuracy"
   ]
  },
  {
   "cell_type": "code",
   "execution_count": 1,
   "metadata": {},
   "outputs": [],
   "source": [
    "import pandas"
   ]
  },
  {
   "cell_type": "code",
   "execution_count": 3,
   "metadata": {},
   "outputs": [],
   "source": [
    "df = pandas.read_csv('/home/dineshb/Downloads/churnModelBase_Assignment2.csv')"
   ]
  },
  {
   "cell_type": "code",
   "execution_count": 4,
   "metadata": {},
   "outputs": [],
   "source": [
    "X = df.iloc[:,:-1]  #independent columns\n",
    "y = df.iloc[:,-1]   #target column"
   ]
  },
  {
   "cell_type": "code",
   "execution_count": 5,
   "metadata": {},
   "outputs": [],
   "source": [
    "from feature_selector import FeatureSelector\n",
    "# Features are in train and labels are in train_labels\n",
    "fs = FeatureSelector(data = X, labels = y)"
   ]
  },
  {
   "cell_type": "code",
   "execution_count": 6,
   "metadata": {},
   "outputs": [
    {
     "name": "stdout",
     "output_type": "stream",
     "text": [
      "0 features with greater than 0.40 missing values.\n",
      "\n"
     ]
    }
   ],
   "source": [
    "fs.identify_missing(missing_threshold = 0.4)\n",
    "miss_val_feature = fs.ops['missing']"
   ]
  },
  {
   "cell_type": "markdown",
   "metadata": {},
   "source": [
    "##### this cell below is not used"
   ]
  },
  {
   "cell_type": "code",
   "execution_count": 43,
   "metadata": {},
   "outputs": [],
   "source": [
    "# Pandas pythonic way of finding missing value features\n",
    "\n",
    "# missValPercent = df.isnull().sum()/len(df)*100\n",
    "# variables = df.columns\n",
    "# non_missing_variable = [ ]\n",
    "# for i in range(0,df.shape[1]):\n",
    "#     if missValPercent[i]<=40:   #setting the threshold as 40%\n",
    "#         non_missing_variable.append(variables[i])\n",
    "# missValPercent.sort_values()[::-1]"
   ]
  },
  {
   "cell_type": "markdown",
   "metadata": {},
   "source": [
    "##### Filling all the missing values with the median of respective column"
   ]
  },
  {
   "cell_type": "code",
   "execution_count": 44,
   "metadata": {},
   "outputs": [],
   "source": [
    "for x in X.columns:\n",
    "    X[x].fillna(X[x].median(),inplace=True)"
   ]
  },
  {
   "cell_type": "code",
   "execution_count": 45,
   "metadata": {
    "scrolled": true
   },
   "outputs": [
    {
     "data": {
      "text/html": [
       "<div>\n",
       "<style scoped>\n",
       "    .dataframe tbody tr th:only-of-type {\n",
       "        vertical-align: middle;\n",
       "    }\n",
       "\n",
       "    .dataframe tbody tr th {\n",
       "        vertical-align: top;\n",
       "    }\n",
       "\n",
       "    .dataframe thead th {\n",
       "        text-align: right;\n",
       "    }\n",
       "</style>\n",
       "<table border=\"1\" class=\"dataframe\">\n",
       "  <thead>\n",
       "    <tr style=\"text-align: right;\">\n",
       "      <th></th>\n",
       "      <th>userID</th>\n",
       "      <th>Contact_ind</th>\n",
       "      <th>Customer_status</th>\n",
       "      <th>ActiveSinceDays</th>\n",
       "      <th>num_AcD_m0</th>\n",
       "      <th>num_AcD_m1</th>\n",
       "      <th>r_AcD_m0_m12</th>\n",
       "      <th>r_AcD_m0_m123</th>\n",
       "      <th>daystofirstload</th>\n",
       "      <th>dayssincelastload</th>\n",
       "      <th>...</th>\n",
       "      <th>InAllRev_m1</th>\n",
       "      <th>InAllRev_m2</th>\n",
       "      <th>r_InAllRev_m0_m1</th>\n",
       "      <th>r_InAllRev_m0_m2</th>\n",
       "      <th>tot_InAllRev_3m</th>\n",
       "      <th>OgAllRev_m0</th>\n",
       "      <th>OgAllRev_m1</th>\n",
       "      <th>OgAllRev_m2</th>\n",
       "      <th>tot_OgAllRev_3m</th>\n",
       "      <th>targetid</th>\n",
       "    </tr>\n",
       "  </thead>\n",
       "  <tbody>\n",
       "    <tr>\n",
       "      <th>0</th>\n",
       "      <td>1</td>\n",
       "      <td>1</td>\n",
       "      <td>4</td>\n",
       "      <td>221</td>\n",
       "      <td>1</td>\n",
       "      <td>2</td>\n",
       "      <td>50.000000</td>\n",
       "      <td>33.333333</td>\n",
       "      <td>0</td>\n",
       "      <td>153</td>\n",
       "      <td>...</td>\n",
       "      <td>0.0</td>\n",
       "      <td>497.00</td>\n",
       "      <td>0.000000</td>\n",
       "      <td>0.000000</td>\n",
       "      <td>497.00</td>\n",
       "      <td>199.00</td>\n",
       "      <td>150.00</td>\n",
       "      <td>485.00</td>\n",
       "      <td>834.00</td>\n",
       "      <td>0</td>\n",
       "    </tr>\n",
       "    <tr>\n",
       "      <th>1</th>\n",
       "      <td>2</td>\n",
       "      <td>1</td>\n",
       "      <td>4</td>\n",
       "      <td>1225</td>\n",
       "      <td>3</td>\n",
       "      <td>1</td>\n",
       "      <td>150.000000</td>\n",
       "      <td>90.000000</td>\n",
       "      <td>0</td>\n",
       "      <td>14</td>\n",
       "      <td>...</td>\n",
       "      <td>245.0</td>\n",
       "      <td>345.00</td>\n",
       "      <td>270.325203</td>\n",
       "      <td>192.196532</td>\n",
       "      <td>1255.00</td>\n",
       "      <td>839.00</td>\n",
       "      <td>245.00</td>\n",
       "      <td>345.00</td>\n",
       "      <td>1429.00</td>\n",
       "      <td>0</td>\n",
       "    </tr>\n",
       "    <tr>\n",
       "      <th>2</th>\n",
       "      <td>3</td>\n",
       "      <td>1</td>\n",
       "      <td>3</td>\n",
       "      <td>838</td>\n",
       "      <td>18</td>\n",
       "      <td>19</td>\n",
       "      <td>120.000000</td>\n",
       "      <td>174.193548</td>\n",
       "      <td>724</td>\n",
       "      <td>47</td>\n",
       "      <td>...</td>\n",
       "      <td>15000.0</td>\n",
       "      <td>13782.57</td>\n",
       "      <td>23.331778</td>\n",
       "      <td>25.392551</td>\n",
       "      <td>32282.57</td>\n",
       "      <td>16730.64</td>\n",
       "      <td>15559.52</td>\n",
       "      <td>11196.57</td>\n",
       "      <td>43486.73</td>\n",
       "      <td>0</td>\n",
       "    </tr>\n",
       "    <tr>\n",
       "      <th>3</th>\n",
       "      <td>4</td>\n",
       "      <td>1</td>\n",
       "      <td>4</td>\n",
       "      <td>486</td>\n",
       "      <td>2</td>\n",
       "      <td>0</td>\n",
       "      <td>200.000000</td>\n",
       "      <td>200.000000</td>\n",
       "      <td>0</td>\n",
       "      <td>3</td>\n",
       "      <td>...</td>\n",
       "      <td>0.0</td>\n",
       "      <td>0.00</td>\n",
       "      <td>26400.000000</td>\n",
       "      <td>26400.000000</td>\n",
       "      <td>264.00</td>\n",
       "      <td>302.00</td>\n",
       "      <td>0.00</td>\n",
       "      <td>0.00</td>\n",
       "      <td>302.00</td>\n",
       "      <td>0</td>\n",
       "    </tr>\n",
       "    <tr>\n",
       "      <th>4</th>\n",
       "      <td>5</td>\n",
       "      <td>1</td>\n",
       "      <td>3</td>\n",
       "      <td>928</td>\n",
       "      <td>1</td>\n",
       "      <td>1</td>\n",
       "      <td>33.333333</td>\n",
       "      <td>37.500000</td>\n",
       "      <td>0</td>\n",
       "      <td>147</td>\n",
       "      <td>...</td>\n",
       "      <td>0.0</td>\n",
       "      <td>10.00</td>\n",
       "      <td>0.000000</td>\n",
       "      <td>0.000000</td>\n",
       "      <td>10.00</td>\n",
       "      <td>400.00</td>\n",
       "      <td>0.00</td>\n",
       "      <td>577.00</td>\n",
       "      <td>977.00</td>\n",
       "      <td>0</td>\n",
       "    </tr>\n",
       "  </tbody>\n",
       "</table>\n",
       "<p>5 rows × 112 columns</p>\n",
       "</div>"
      ],
      "text/plain": [
       "   userID  Contact_ind  Customer_status  ActiveSinceDays  num_AcD_m0  \\\n",
       "0       1            1                4              221           1   \n",
       "1       2            1                4             1225           3   \n",
       "2       3            1                3              838          18   \n",
       "3       4            1                4              486           2   \n",
       "4       5            1                3              928           1   \n",
       "\n",
       "   num_AcD_m1  r_AcD_m0_m12  r_AcD_m0_m123  daystofirstload  \\\n",
       "0           2     50.000000      33.333333                0   \n",
       "1           1    150.000000      90.000000                0   \n",
       "2          19    120.000000     174.193548              724   \n",
       "3           0    200.000000     200.000000                0   \n",
       "4           1     33.333333      37.500000                0   \n",
       "\n",
       "   dayssincelastload  ...  InAllRev_m1  InAllRev_m2  r_InAllRev_m0_m1  \\\n",
       "0                153  ...          0.0       497.00          0.000000   \n",
       "1                 14  ...        245.0       345.00        270.325203   \n",
       "2                 47  ...      15000.0     13782.57         23.331778   \n",
       "3                  3  ...          0.0         0.00      26400.000000   \n",
       "4                147  ...          0.0        10.00          0.000000   \n",
       "\n",
       "   r_InAllRev_m0_m2  tot_InAllRev_3m  OgAllRev_m0  OgAllRev_m1  OgAllRev_m2  \\\n",
       "0          0.000000           497.00       199.00       150.00       485.00   \n",
       "1        192.196532          1255.00       839.00       245.00       345.00   \n",
       "2         25.392551         32282.57     16730.64     15559.52     11196.57   \n",
       "3      26400.000000           264.00       302.00         0.00         0.00   \n",
       "4          0.000000            10.00       400.00         0.00       577.00   \n",
       "\n",
       "   tot_OgAllRev_3m  targetid  \n",
       "0           834.00         0  \n",
       "1          1429.00         0  \n",
       "2         43486.73         0  \n",
       "3           302.00         0  \n",
       "4           977.00         0  \n",
       "\n",
       "[5 rows x 112 columns]"
      ]
     },
     "execution_count": 45,
     "metadata": {},
     "output_type": "execute_result"
    }
   ],
   "source": [
    "df.head()"
   ]
  },
  {
   "cell_type": "markdown",
   "metadata": {},
   "source": [
    "##### finding columns having constant/ single unique value"
   ]
  },
  {
   "cell_type": "code",
   "execution_count": 46,
   "metadata": {
    "scrolled": true
   },
   "outputs": [
    {
     "name": "stdout",
     "output_type": "stream",
     "text": [
      "2 features with a single unique value.\n",
      "\n"
     ]
    }
   ],
   "source": [
    "fs.identify_single_unique()"
   ]
  },
  {
   "cell_type": "code",
   "execution_count": 47,
   "metadata": {},
   "outputs": [],
   "source": [
    "# pandas pythonic way of finding single unique value features\n",
    "\n",
    "# var = df.var()\n",
    "# var.sort_values()[::-1]"
   ]
  },
  {
   "cell_type": "markdown",
   "metadata": {},
   "source": [
    "##### Finding features with high collinearity"
   ]
  },
  {
   "cell_type": "code",
   "execution_count": 48,
   "metadata": {
    "scrolled": true
   },
   "outputs": [
    {
     "name": "stdout",
     "output_type": "stream",
     "text": [
      "18 features with a correlation magnitude greater than 0.85.\n",
      "\n"
     ]
    },
    {
     "name": "stderr",
     "output_type": "stream",
     "text": [
      "/usr/local/lib/python3.5/dist-packages/pandas/core/frame.py:6692: FutureWarning: Sorting because non-concatenation axis is not aligned. A future version\n",
      "of pandas will change to not sort by default.\n",
      "\n",
      "To accept the future behavior, pass 'sort=False'.\n",
      "\n",
      "To retain the current behavior and silence the warning, pass 'sort=True'.\n",
      "\n",
      "  sort=sort)\n"
     ]
    }
   ],
   "source": [
    "fs.identify_collinear(correlation_threshold = 0.85)"
   ]
  },
  {
   "cell_type": "code",
   "execution_count": 49,
   "metadata": {},
   "outputs": [
    {
     "data": {
      "image/png": "[encoded data removed]",
      "text/plain": [
       "<matplotlib.figure.Figure at 0x7fabc37c0240>"
      ]
     },
     "metadata": {
      "needs_background": "light"
     },
     "output_type": "display_data"
    }
   ],
   "source": [
    "fs.plot_collinear(plot_all=False)"
   ]
  },
  {
   "cell_type": "code",
   "execution_count": 50,
   "metadata": {},
   "outputs": [
    {
     "data": {
      "text/plain": [
       "['max_RevUo_m0',\n",
       " 'max_RevUo_m1',\n",
       " 'max_RevUo_m2',\n",
       " 'tot_rechX_m1',\n",
       " 'billX_amt_m0',\n",
       " 'billX_amt_m1',\n",
       " 'billX_amt_m2',\n",
       " 'tot_billX_amt_m012',\n",
       " 'billX_cnt_m1',\n",
       " 'billX_cnt_m2',\n",
       " 'InAllRev_m0',\n",
       " 'InAllRev_m1',\n",
       " 'InAllRev_m2',\n",
       " 'r_InAllRev_m0_m1',\n",
       " 'tot_InAllRev_3m',\n",
       " 'OgAllRev_m0',\n",
       " 'OgAllRev_m1',\n",
       " 'tot_OgAllRev_3m']"
      ]
     },
     "execution_count": 50,
     "metadata": {},
     "output_type": "execute_result"
    }
   ],
   "source": [
    "collinear_features = fs.ops['collinear']\n",
    "collinear_features"
   ]
  },
  {
   "cell_type": "code",
   "execution_count": 51,
   "metadata": {},
   "outputs": [],
   "source": [
    "# pandas, seaborn, pythonic way of finding collinear features\n",
    "\n",
    "# import seaborn as sns\n",
    "# corrmat = df.corr()\n",
    "# top_corr_features = corrmat.index\n",
    "# plt.figure(figsize=(75,75))\n",
    "# #plot heat map\n",
    "# corrdf = df[top_corr_features].corr()\n",
    "# g=sns.heatmap(corrdf.iloc[:30,:30],annot=True,cmap=\"RdYlGn\")"
   ]
  },
  {
   "cell_type": "markdown",
   "metadata": {},
   "source": [
    "##### finding features that has no importance on target variable"
   ]
  },
  {
   "cell_type": "code",
   "execution_count": 52,
   "metadata": {
    "scrolled": true
   },
   "outputs": [
    {
     "name": "stdout",
     "output_type": "stream",
     "text": [
      "Training Gradient Boosting Model\n",
      "\n",
      "Training until validation scores don't improve for 100 rounds.\n",
      "Early stopping, best iteration is:\n",
      "[207]\tvalid_0's auc: 0.925751\n",
      "Training until validation scores don't improve for 100 rounds.\n",
      "Early stopping, best iteration is:\n",
      "[346]\tvalid_0's auc: 0.927912\n",
      "Training until validation scores don't improve for 100 rounds.\n",
      "Early stopping, best iteration is:\n",
      "[136]\tvalid_0's auc: 0.925643\n",
      "Training until validation scores don't improve for 100 rounds.\n",
      "Early stopping, best iteration is:\n",
      "[89]\tvalid_0's auc: 0.924337\n",
      "Training until validation scores don't improve for 100 rounds.\n",
      "Early stopping, best iteration is:\n",
      "[160]\tvalid_0's auc: 0.922308\n",
      "Training until validation scores don't improve for 100 rounds.\n",
      "Early stopping, best iteration is:\n",
      "[141]\tvalid_0's auc: 0.922397\n",
      "Training until validation scores don't improve for 100 rounds.\n",
      "Early stopping, best iteration is:\n",
      "[116]\tvalid_0's auc: 0.923952\n",
      "Training until validation scores don't improve for 100 rounds.\n",
      "Early stopping, best iteration is:\n",
      "[354]\tvalid_0's auc: 0.920536\n",
      "Training until validation scores don't improve for 100 rounds.\n",
      "Early stopping, best iteration is:\n",
      "[155]\tvalid_0's auc: 0.919724\n",
      "Training until validation scores don't improve for 100 rounds.\n",
      "Early stopping, best iteration is:\n",
      "[224]\tvalid_0's auc: 0.920883\n",
      "\n",
      "2 features with zero importance after one-hot encoding.\n",
      "\n"
     ]
    },
    {
     "data": {
      "text/plain": [
       "['avgdays_btw_loads_l6', 'fail_RtlTxncnt_m0']"
      ]
     },
     "execution_count": 52,
     "metadata": {},
     "output_type": "execute_result"
    }
   ],
   "source": [
    "fs.identify_zero_importance(task = 'classification', \n",
    "                            eval_metric = 'auc', \n",
    "                            n_iterations = 10, \n",
    "                             early_stopping = True)\n",
    "# list of zero importance features\n",
    "zero_importance_features = fs.ops['zero_importance']\n",
    "zero_importance_features"
   ]
  },
  {
   "cell_type": "markdown",
   "metadata": {},
   "source": [
    "##### finding features with low importance"
   ]
  },
  {
   "cell_type": "code",
   "execution_count": 53,
   "metadata": {},
   "outputs": [
    {
     "name": "stdout",
     "output_type": "stream",
     "text": [
      "100 features required for cumulative importance of 0.99 after one hot encoding.\n",
      "11 features do not contribute to cumulative importance of 0.99.\n",
      "\n"
     ]
    },
    {
     "data": {
      "text/plain": [
       "['r_RtlTxns_cnt_m1_m2',\n",
       " 'billX_amt_m1',\n",
       " 'r_tot_RevUo_m0_m1',\n",
       " 'RtlTxn_dayscnt_m0',\n",
       " 'billX_cnt_m2',\n",
       " 'billX_cnt_m1',\n",
       " 'billX_cnt_m0',\n",
       " 'Contact_ind',\n",
       " 'percent_resolved_3m',\n",
       " 'avgdays_btw_loads_l6',\n",
       " 'fail_RtlTxncnt_m0']"
      ]
     },
     "execution_count": 53,
     "metadata": {},
     "output_type": "execute_result"
    }
   ],
   "source": [
    "fs.identify_low_importance(cumulative_importance = 0.99)\n",
    "low_importance_features = fs.ops['low_importance']\n",
    "low_importance_features"
   ]
  },
  {
   "cell_type": "code",
   "execution_count": 54,
   "metadata": {},
   "outputs": [],
   "source": [
    "# pandas pythonic way of finding no,low,high importance features\n",
    "\n",
    "# import pandas as pd\n",
    "# import numpy as np\n",
    "# df = df.fillna(0)\n",
    "\n",
    "# from sklearn.ensemble import ExtraTreesClassifier\n",
    "# import matplotlib.pyplot as plt\n",
    "# model = ExtraTreesClassifier()\n",
    "# model.fit(X,y)\n",
    "# # print(model.feature_importances_) #use inbuilt class feature_importances of tree based classifiers\n",
    "# #plot graph of feature importances for better visualization\n",
    "# plt.figure(figsize=(5,20))\n",
    "# feat_importances = pd.Series(model.feature_importances_, index=X.columns)\n",
    "# feat_importances.nlargest(30).plot(kind='barh')\n",
    "# plt.show()\n",
    "\n",
    "# from sklearn.feature_selection import SelectKBest\n",
    "# from sklearn.feature_selection import chi2\n",
    "\n",
    "# for x in X.columns:\n",
    "#     df[x] = (df[x]- df[x].min())/(df[x].max()-df[x].min())\n",
    "\n",
    "# X = df.iloc[:,:-1]  #independent columns\n",
    "# y = df.iloc[:,-1]    #target column\n",
    "\n",
    "# bestfeatures = SelectKBest(score_func=chi2, k=30)\n",
    "# fit = bestfeatures.fit(X,y)\n",
    "# dfscores = pd.DataFrame(fit.scores_)\n",
    "# dfcolumns = pd.DataFrame(X.columns)\n",
    "# #concat two dataframes for better visualization \n",
    "# featureScores = pd.concat([dfcolumns,dfscores],axis=1)\n",
    "# featureScores.columns = ['Specs','Score']  #naming the dataframe columns\n",
    "# print(featureScores.nlargest(30,'Score'))  #print 10 best features\n"
   ]
  },
  {
   "cell_type": "markdown",
   "metadata": {},
   "source": [
    "##### removing unwanted features"
   ]
  },
  {
   "cell_type": "code",
   "execution_count": 55,
   "metadata": {},
   "outputs": [
    {
     "name": "stdout",
     "output_type": "stream",
     "text": [
      "['zero_importance', 'collinear', 'single_unique', 'low_importance', 'missing'] methods have been run\n",
      "\n",
      "Removed 26 features including one-hot features.\n",
      "Total of 26 features identified for removal\n"
     ]
    },
    {
     "data": {
      "text/plain": [
       "['fail_RtlTxncnt_m0',\n",
       " 'InAllRev_m2',\n",
       " 'max_RevUo_m2',\n",
       " 'OgAllRev_m1',\n",
       " 'avgdays_btw_loads_l6',\n",
       " 'tot_InAllRev_3m',\n",
       " 'Contact_ind',\n",
       " 'max_RevUo_m1',\n",
       " 'InAllRev_m1',\n",
       " 'tot_rechX_m1',\n",
       " 'tot_billX_amt_m012',\n",
       " 'r_tot_RevUo_m0_m1',\n",
       " 'InAllRev_m0',\n",
       " 'billX_cnt_m0',\n",
       " 'billX_cnt_m2',\n",
       " 'max_RevUo_m0',\n",
       " 'billX_amt_m2',\n",
       " 'percent_resolved_3m',\n",
       " 'billX_amt_m0',\n",
       " 'tot_OgAllRev_3m',\n",
       " 'r_InAllRev_m0_m1',\n",
       " 'r_RtlTxns_cnt_m1_m2',\n",
       " 'billX_cnt_m1',\n",
       " 'RtlTxn_dayscnt_m0',\n",
       " 'OgAllRev_m0',\n",
       " 'billX_amt_m1']"
      ]
     },
     "execution_count": 55,
     "metadata": {},
     "output_type": "execute_result"
    }
   ],
   "source": [
    "new_X = fs.remove(methods = 'all', keep_one_hot=False)\n",
    "fs.check_removal()"
   ]
  },
  {
   "cell_type": "code",
   "execution_count": 222,
   "metadata": {},
   "outputs": [],
   "source": [
    "from imblearn.under_sampling import EditedNearestNeighbours\n",
    "enn = EditedNearestNeighbours(n_neighbors=4)\n",
    "X_res, y_res = enn.fit_resample(new_X, y)"
   ]
  },
  {
   "cell_type": "code",
   "execution_count": 239,
   "metadata": {},
   "outputs": [
    {
     "name": "stdout",
     "output_type": "stream",
     "text": [
      "19033 19033 38066\n"
     ]
    }
   ],
   "source": [
    "import numpy as np\n",
    "print(y_res.shape[0]- np.count_nonzero(y_res),np.count_nonzero(y_res),y_res.shape[0])"
   ]
  },
  {
   "cell_type": "markdown",
   "metadata": {},
   "source": [
    "##### Now I'm reducing dimensionality using PCA"
   ]
  },
  {
   "cell_type": "code",
   "execution_count": 246,
   "metadata": {},
   "outputs": [
    {
     "name": "stdout",
     "output_type": "stream",
     "text": [
      "0.9242195403489337\n"
     ]
    }
   ],
   "source": [
    "from sklearn.decomposition import PCA\n",
    "pca = PCA(n_components=5)\n",
    "pca_result = pca.fit_transform(pandas.DataFrame(X_res))\n",
    "sum=0\n",
    "for x in pca.explained_variance_ratio_:\n",
    "    sum=sum+x\n",
    "print(sum)"
   ]
  },
  {
   "cell_type": "code",
   "execution_count": 247,
   "metadata": {},
   "outputs": [
    {
     "name": "stdout",
     "output_type": "stream",
     "text": [
      "0.9881440022397759\n"
     ]
    }
   ],
   "source": [
    "pca = PCA(n_components=10)\n",
    "pca_result = pca.fit_transform(pandas.DataFrame(X_res))\n",
    "sum=0\n",
    "for x in pca.explained_variance_ratio_:\n",
    "    sum=sum+x\n",
    "print(sum)"
   ]
  },
  {
   "cell_type": "code",
   "execution_count": 248,
   "metadata": {},
   "outputs": [],
   "source": [
    "principalDf = pandas.DataFrame(data = pca_result\n",
    "             , columns = ['pc1', 'pc2','pc3','pc4','pc5','pc6','pc7','pc8','pc9','pc10'])"
   ]
  },
  {
   "cell_type": "code",
   "execution_count": 290,
   "metadata": {},
   "outputs": [],
   "source": [
    "principalDf['target'] = y_res"
   ]
  },
  {
   "cell_type": "code",
   "execution_count": 251,
   "metadata": {},
   "outputs": [
    {
     "data": {
      "text/plain": [
       "<matplotlib.axes._subplots.AxesSubplot at 0x7ff64bced358>"
      ]
     },
     "execution_count": 251,
     "metadata": {},
     "output_type": "execute_result"
    },
    {
     "data": {
      "image/png": "[encoded data removed]",
      "text/plain": [
       "<matplotlib.figure.Figure at 0x7ff64bccb668>"
      ]
     },
     "metadata": {
      "needs_background": "light"
     },
     "output_type": "display_data"
    }
   ],
   "source": [
    "principalDf.plot.scatter(x='pc1',y='pc2',c='target',colormap='viridis')"
   ]
  },
  {
   "cell_type": "code",
   "execution_count": 291,
   "metadata": {},
   "outputs": [
    {
     "data": {
      "text/plain": [
       "<matplotlib.axes._subplots.AxesSubplot at 0x7ff64bc38160>"
      ]
     },
     "execution_count": 291,
     "metadata": {},
     "output_type": "execute_result"
    },
    {
     "data": {
      "image/png": "[encoded data removed]",
      "text/plain": [
       "<matplotlib.figure.Figure at 0x7ff64bc38b38>"
      ]
     },
     "metadata": {
      "needs_background": "light"
     },
     "output_type": "display_data"
    }
   ],
   "source": [
    "principalDf.plot.scatter(x='pc2',y='pc3',c='target',colormap='viridis')"
   ]
  },
  {
   "cell_type": "code",
   "execution_count": 256,
   "metadata": {},
   "outputs": [],
   "source": [
    "principalDf.drop(['target'],axis=1,inplace=True)\n",
    "# y_res.shape"
   ]
  },
  {
   "cell_type": "markdown",
   "metadata": {},
   "source": [
    "##### one can keep changing algos for oversampling, downsampling & can also change the ratio parameter to maintain class balance & get different results"
   ]
  },
  {
   "cell_type": "code",
   "execution_count": 257,
   "metadata": {},
   "outputs": [],
   "source": [
    "# from imblearn.under_sampling import EditedNearestNeighbours\n",
    "# enn = EditedNearestNeighbours(n_neighbors=4)\n",
    "# X_res, y_res = enn.fit_resample(principalDf, y)\n",
    "\n",
    "# from imblearn.combine import SMOTEENN\n",
    "# sme = SMOTEENN(random_state=42)\n",
    "# X_res, y_res = sme.fit_resample(principalDf, y)\n",
    "\n",
    "from imblearn.over_sampling import SMOTE\n",
    "sme = SMOTE()\n",
    "X_res,y_res = sme.fit_resample(principalDf,y_res)"
   ]
  },
  {
   "cell_type": "code",
   "execution_count": 258,
   "metadata": {},
   "outputs": [
    {
     "name": "stdout",
     "output_type": "stream",
     "text": [
      "19033 19033 38066\n"
     ]
    }
   ],
   "source": [
    "import numpy as np\n",
    "print(y_res.shape[0]- np.count_nonzero(y_res),np.count_nonzero(y_res),y_res.shape[0])"
   ]
  },
  {
   "cell_type": "markdown",
   "metadata": {},
   "source": [
    "##### Let's take a look at evaluation metrics using SMOTE data"
   ]
  },
  {
   "cell_type": "code",
   "execution_count": 301,
   "metadata": {},
   "outputs": [],
   "source": [
    "from sklearn.model_selection import train_test_split\n",
    "X_train, X_test, y_train, y_test = train_test_split(\n",
    "    X_res, y_res, test_size=0.6, random_state=123)"
   ]
  },
  {
   "cell_type": "code",
   "execution_count": 302,
   "metadata": {},
   "outputs": [
    {
     "name": "stdout",
     "output_type": "stream",
     "text": [
      "              precision    recall  f1-score   support\n",
      "\n",
      "           0       0.70      0.70      0.70     11355\n",
      "           1       0.70      0.70      0.70     11485\n",
      "\n",
      "    accuracy                           0.70     22840\n",
      "   macro avg       0.70      0.70      0.70     22840\n",
      "weighted avg       0.70      0.70      0.70     22840\n",
      "\n"
     ]
    }
   ],
   "source": [
    "# AdaBoost Algorithm\n",
    "from sklearn.ensemble import AdaBoostClassifier\n",
    "clf1 = AdaBoostClassifier(n_estimators = 200)\n",
    "n_estimators = 100 #(default value) \n",
    "# base_estimator = DecisionTreeClassifier (default value)\n",
    "clf1.fit(X_train,y_train)\n",
    "prediction = clf1.predict(X_test)\n",
    "from sklearn.metrics import accuracy_score,average_precision_score,confusion_matrix,f1_score\n",
    "print(classification_report(y_test,prediction))"
   ]
  },
  {
   "cell_type": "code",
   "execution_count": 303,
   "metadata": {},
   "outputs": [
    {
     "data": {
      "text/plain": [
       "0.8492053067122028"
      ]
     },
     "execution_count": 303,
     "metadata": {},
     "output_type": "execute_result"
    }
   ],
   "source": [
    "from sklearn.ensemble import GradientBoostingClassifier\n",
    "clf1 = GradientBoostingClassifier(max_depth=5,n_estimators=250, random_state=10, max_features= 'sqrt', subsample =0.8)\n",
    "clf1.fit(X_train,y_train)\n",
    "clf1.score(X_train,y_train)"
   ]
  },
  {
   "cell_type": "code",
   "execution_count": 304,
   "metadata": {},
   "outputs": [
    {
     "name": "stdout",
     "output_type": "stream",
     "text": [
      "              precision    recall  f1-score   support\n",
      "\n",
      "           0       0.75      0.75      0.75     11355\n",
      "           1       0.75      0.75      0.75     11485\n",
      "\n",
      "    accuracy                           0.75     22840\n",
      "   macro avg       0.75      0.75      0.75     22840\n",
      "weighted avg       0.75      0.75      0.75     22840\n",
      "\n"
     ]
    }
   ],
   "source": [
    "prediction = clf1.predict(X_test)\n",
    "from sklearn.metrics import accuracy_score,average_precision_score,confusion_matrix,f1_score,classification_report\n",
    "accuracy_score(y_test,prediction)\n",
    "confusion_matrix(y_test,prediction)\n",
    "print(classification_report(y_test,prediction))"
   ]
  },
  {
   "cell_type": "code",
   "execution_count": 305,
   "metadata": {},
   "outputs": [
    {
     "data": {
      "text/plain": [
       "0.8279259161959805"
      ]
     },
     "execution_count": 305,
     "metadata": {},
     "output_type": "execute_result"
    }
   ],
   "source": [
    "from xgboost import XGBClassifier\n",
    "clf2 = XGBClassifier(max_depth=5,n_estimators=200,n_jobs=2,random_state=10)\n",
    "clf2.fit(X_train, y_train)\n",
    "clf2.score(X_train,y_train)"
   ]
  },
  {
   "cell_type": "code",
   "execution_count": 306,
   "metadata": {},
   "outputs": [
    {
     "name": "stdout",
     "output_type": "stream",
     "text": [
      "              precision    recall  f1-score   support\n",
      "\n",
      "           0       0.74      0.74      0.74     11355\n",
      "           1       0.74      0.74      0.74     11485\n",
      "\n",
      "    accuracy                           0.74     22840\n",
      "   macro avg       0.74      0.74      0.74     22840\n",
      "weighted avg       0.74      0.74      0.74     22840\n",
      "\n"
     ]
    }
   ],
   "source": [
    "prediction = clf2.predict(X_test)\n",
    "from sklearn.metrics import accuracy_score,average_precision_score,confusion_matrix,f1_score\n",
    "accuracy_score(y_test,prediction)\n",
    "confusion_matrix(y_test,prediction)\n",
    "print(classification_report(y_test,prediction))"
   ]
  },
  {
   "cell_type": "code",
   "execution_count": 310,
   "metadata": {},
   "outputs": [
    {
     "name": "stdout",
     "output_type": "stream",
     "text": [
      "              precision    recall  f1-score   support\n",
      "\n",
      "           0       0.77      0.79      0.78     11355\n",
      "           1       0.79      0.77      0.78     11485\n",
      "\n",
      "    accuracy                           0.78     22840\n",
      "   macro avg       0.78      0.78      0.78     22840\n",
      "weighted avg       0.78      0.78      0.78     22840\n",
      "\n"
     ]
    }
   ],
   "source": [
    "from sklearn.ensemble import RandomForestClassifier\n",
    "clf3 = RandomForestClassifier(n_estimators= 300, criterion='gini', max_depth=None, min_samples_split=2, min_samples_leaf=1, min_weight_fraction_leaf=0.0, max_features='auto', max_leaf_nodes=None, min_impurity_decrease=0.0, min_impurity_split=None, bootstrap=True, oob_score=False, n_jobs=None, random_state=None, verbose=0, warm_start=False, class_weight=None)\n",
    "clf3.fit(X_train, y_train)\n",
    "prediction = clf3.predict(X_test)\n",
    "from sklearn.metrics import accuracy_score,average_precision_score,confusion_matrix,f1_score\n",
    "accuracy_score(y_test,prediction)\n",
    "confusion_matrix(y_test,prediction)\n",
    "print(classification_report(y_test,prediction))"
   ]
  },
  {
   "cell_type": "markdown",
   "metadata": {},
   "source": [
    "### I Played with data tried different combinations of algos, params was able to get really good accuracy.  sometimes good precision, poor recall. sometime good recall, poor precision without hyper parameter tuned or tpot library , but after wasting lots of time I decided to go ahead with this Random forest it stands good on all evaluation metrics has cross validated accuracy around\n",
    "## 0.75"
   ]
  },
  {
   "cell_type": "code",
   "execution_count": 309,
   "metadata": {},
   "outputs": [
    {
     "data": {
      "text/plain": [
       "array([0.74208038, 0.74834489, 0.74511349])"
      ]
     },
     "execution_count": 309,
     "metadata": {},
     "output_type": "execute_result"
    }
   ],
   "source": [
    "from sklearn import cross_validation\n",
    "cross_validation.cross_val_score(clf3, X_res, y_res, scoring='accuracy')"
   ]
  },
  {
   "cell_type": "markdown",
   "metadata": {},
   "source": [
    "##### for some reason random search is throwing memory leak error even after running it for more than 24 hours at the end it returned default params, wasted a lot of time here, most probably I'm using a very old linux distro & packages which are throwing conflicts. See the score at the end of the output of this cell after just few iterations it gave a score of over \n",
    "### 0.99 \n",
    "###### but when I used get_params() it returned default values only"
   ]
  },
  {
   "cell_type": "code",
   "execution_count": 32,
   "metadata": {},
   "outputs": [
    {
     "name": "stdout",
     "output_type": "stream",
     "text": [
      "Fitting 3 folds for each of 15 candidates, totalling 45 fits\n"
     ]
    },
    {
     "name": "stderr",
     "output_type": "stream",
     "text": [
      "[Parallel(n_jobs=-1)]: Using backend LokyBackend with 4 concurrent workers.\n",
      "/usr/local/lib/python3.5/dist-packages/joblib/externals/loky/process_executor.py:706: UserWarning: A worker stopped while some jobs were given to the executor. This can be caused by a too short worker timeout or by a memory leak.\n",
      "  \"timeout or by a memory leak.\", UserWarning\n",
      "/usr/local/lib/python3.5/dist-packages/joblib/externals/loky/process_executor.py:706: UserWarning: A worker stopped while some jobs were given to the executor. This can be caused by a too short worker timeout or by a memory leak.\n",
      "  \"timeout or by a memory leak.\", UserWarning\n",
      "/usr/local/lib/python3.5/dist-packages/joblib/externals/loky/process_executor.py:706: UserWarning: A worker stopped while some jobs were given to the executor. This can be caused by a too short worker timeout or by a memory leak.\n",
      "  \"timeout or by a memory leak.\", UserWarning\n",
      "/usr/local/lib/python3.5/dist-packages/joblib/externals/loky/process_executor.py:706: UserWarning: A worker stopped while some jobs were given to the executor. This can be caused by a too short worker timeout or by a memory leak.\n",
      "  \"timeout or by a memory leak.\", UserWarning\n",
      "/usr/local/lib/python3.5/dist-packages/joblib/externals/loky/process_executor.py:706: UserWarning: A worker stopped while some jobs were given to the executor. This can be caused by a too short worker timeout or by a memory leak.\n",
      "  \"timeout or by a memory leak.\", UserWarning\n",
      "/usr/local/lib/python3.5/dist-packages/joblib/externals/loky/process_executor.py:706: UserWarning: A worker stopped while some jobs were given to the executor. This can be caused by a too short worker timeout or by a memory leak.\n",
      "  \"timeout or by a memory leak.\", UserWarning\n",
      "/usr/local/lib/python3.5/dist-packages/joblib/externals/loky/process_executor.py:706: UserWarning: A worker stopped while some jobs were given to the executor. This can be caused by a too short worker timeout or by a memory leak.\n",
      "  \"timeout or by a memory leak.\", UserWarning\n",
      "[Parallel(n_jobs=-1)]: Done  33 tasks      | elapsed: 23.6min\n",
      "[Parallel(n_jobs=-1)]: Done  45 out of  45 | elapsed: 35.0min finished\n"
     ]
    },
    {
     "data": {
      "text/plain": [
       "0.999920720911181"
      ]
     },
     "execution_count": 32,
     "metadata": {},
     "output_type": "execute_result"
    }
   ],
   "source": [
    "from sklearn.model_selection import RandomizedSearchCV\n",
    "n_estimators = [int(x) for x in np.linspace(start = 200, stop = 2000, num = 10)]\n",
    "# Number of features to consider at every split\n",
    "max_features = ['auto', 'sqrt']\n",
    "# Maximum number of levels in tree\n",
    "max_depth = [int(x) for x in np.linspace(10, 110, num = 11)]\n",
    "max_depth.append(None)\n",
    "# Minimum number of samples required to split a node\n",
    "min_samples_split = [2, 5, 10]\n",
    "# Minimum number of samples required at each leaf node\n",
    "min_samples_leaf = [1, 2, 4]\n",
    "# Method of selecting samples for training each tree\n",
    "bootstrap = [True, False]\n",
    "\n",
    "random_grid = {'n_estimators': n_estimators,\n",
    "               'max_features': max_features,\n",
    "               'max_depth': max_depth,\n",
    "               'min_samples_split': min_samples_split,\n",
    "               'min_samples_leaf': min_samples_leaf,\n",
    "               'bootstrap': bootstrap}\n",
    "rf_tuned = RandomizedSearchCV(clf, param_distributions = random_grid, n_iter = 10, cv = 3, verbose=2, random_state=42, n_jobs = -1)\n",
    "rf_tuned.fit(X_res, y_res)\n",
    "rf_tuned.score(X_res,y_res)"
   ]
  },
  {
   "cell_type": "markdown",
   "metadata": {},
   "source": [
    "###### there are further improvements that can be made but due to lack of time I'll go ahead with my last model only"
   ]
  },
  {
   "cell_type": "code",
   "execution_count": 35,
   "metadata": {},
   "outputs": [],
   "source": [
    "# import pickle\n",
    "# pickle.dump(rf_tuned, open('RF_Tuned_Mobikwik.pkl', 'wb'))\n",
    "# rf_tuned = pickle.load(open('RF_Tuned_Mobikwik.pkl', 'rb'))\n",
    "# result = rf_tuned.score(X_res, y_res)"
   ]
  },
  {
   "cell_type": "markdown",
   "metadata": {},
   "source": [
    "##### Unfortunately I wasted a lot of time in making tpot to work on my machine. Otherwise I would have received  even better models with f1-score over .90.  I've choosen params with low values."
   ]
  },
  {
   "cell_type": "code",
   "execution_count": 314,
   "metadata": {},
   "outputs": [
    {
     "data": {
      "application/vnd.jupyter.widget-view+json": {
       "model_id": "",
       "version_major": 2,
       "version_minor": 0
      },
      "text/plain": [
       "HBox(children=(IntProgress(value=0, description='Optimization Progress', max=60, style=ProgressStyle(descripti…"
      ]
     },
     "metadata": {},
     "output_type": "display_data"
    },
    {
     "name": "stdout",
     "output_type": "stream",
     "text": [
      "Generation 1 - Current best internal CV score: 0.9453816938623096\n",
      "Generation 2 - Current best internal CV score: 0.9453816938623096\n",
      "Generation 3 - Current best internal CV score: 0.9453816938623096\n",
      "Generation 4 - Current best internal CV score: 0.9453816938623096\n",
      "Generation 5 - Current best internal CV score: 0.9453816938623096\n",
      "\n",
      "Best pipeline: GaussianNB(input_matrix)\n",
      "0.9605263157894737\n"
     ]
    }
   ],
   "source": [
    "from sklearn.model_selection import train_test_split\n",
    "X_train, X_test, y_train, y_test = train_test_split(\n",
    "    X_res, y_res, test_size=0.75, random_state=123)\n",
    "\n",
    "from tpot import TPOTClassifier\n",
    "pipeline_optimizer = TPOTClassifier(generations=50, population_size=100, cv=5,\n",
    "                                    random_state=42, verbosity=2, scoring ='recall')\n",
    "pipeline_optimizer.fit(X_train, y_train)\n",
    "print(pipeline_optimizer.score(X_test, y_test))\n",
    "pipeline_optimizer.export('tpot_exported_pipeline.py')"
   ]
  },
  {
   "cell_type": "code",
   "execution_count": 319,
   "metadata": {},
   "outputs": [
    {
     "data": {
      "application/vnd.jupyter.widget-view+json": {
       "model_id": "",
       "version_major": 2,
       "version_minor": 0
      },
      "text/plain": [
       "HBox(children=(IntProgress(value=0, description='Optimization Progress', max=220, style=ProgressStyle(descript…"
      ]
     },
     "metadata": {},
     "output_type": "display_data"
    },
    {
     "name": "stdout",
     "output_type": "stream",
     "text": [
      "Generation 1 - Current best internal CV score: 0.7341321359858318\n",
      "Generation 2 - Current best internal CV score: 0.7341321359858318\n",
      "Generation 3 - Current best internal CV score: 0.7351832628731562\n",
      "Generation 4 - Current best internal CV score: 0.7351832628731562\n",
      "Generation 5 - Current best internal CV score: 0.736863813611107\n",
      "Generation 6 - Current best internal CV score: 0.7413834467373596\n",
      "Generation 7 - Current best internal CV score: 0.7413834467373596\n",
      "Generation 8 - Current best internal CV score: 0.7413834467373596\n",
      "Generation 9 - Current best internal CV score: 0.7413834467373596\n",
      "Generation 10 - Current best internal CV score: 0.7413834467373596\n",
      "\n",
      "Best pipeline: RandomForestClassifier(input_matrix, bootstrap=False, criterion=entropy, max_features=0.05, min_samples_leaf=1, min_samples_split=15, n_estimators=100)\n",
      "0.7509982486865149\n"
     ]
    }
   ],
   "source": [
    "from sklearn.model_selection import train_test_split\n",
    "X_train, X_test, y_train, y_test = train_test_split(\n",
    "    X_res, y_res, test_size=0.75, random_state=123)\n",
    "\n",
    "from tpot import TPOTClassifier\n",
    "pipeline_optimizer = TPOTClassifier(generations=100, population_size=100, cv=5,\n",
    "                                    random_state=42, verbosity=2, scoring ='accuracy')\n",
    "pipeline_optimizer.fit(X_train, y_train)\n",
    "print(pipeline_optimizer.score(X_test, y_test))\n",
    "pipeline_optimizer.export('tpot_exported_pipeline.py')"
   ]
  },
  {
   "cell_type": "markdown",
   "metadata": {},
   "source": [
    "## Part 2: Customer Segmentation\n",
    "\n",
    "### Steps Followed:\n",
    "#### 1. we can do clustering on the whole dataset or can choose features we want to use & then \n",
    "#### 2. Within those clusters we can find subclusters using even less number of features\n",
    "#### 3. For Clustering on the basis of profibility, one needs to have business knowledge of what features affects it."
   ]
  },
  {
   "cell_type": "code",
   "execution_count": 56,
   "metadata": {},
   "outputs": [],
   "source": [
    "X['target'] = y\n",
    "new_X['target'] = y"
   ]
  },
  {
   "cell_type": "code",
   "execution_count": 57,
   "metadata": {},
   "outputs": [
    {
     "data": {
      "text/plain": [
       "<matplotlib.axes._subplots.AxesSubplot at 0x7fabc37a0c88>"
      ]
     },
     "execution_count": 57,
     "metadata": {},
     "output_type": "execute_result"
    },
    {
     "data": {
      "image/png": "[encoded data removed]",
      "text/plain": [
       "<matplotlib.figure.Figure at 0x7fabc37a0400>"
      ]
     },
     "metadata": {
      "needs_background": "light"
     },
     "output_type": "display_data"
    }
   ],
   "source": [
    "X.plot(x='ActiveSinceDays', y ='rech_amt_m2',c='target',kind='scatter',colormap='viridis', figsize=(10,10))"
   ]
  },
  {
   "cell_type": "markdown",
   "metadata": {},
   "source": [
    "##### If we will do clustering on the basis of the features used in the graph above. We will have 2 major clusters people who recharge more than 4000 or less. Similarly let's take a look at other plots as well "
   ]
  },
  {
   "cell_type": "code",
   "execution_count": 59,
   "metadata": {},
   "outputs": [
    {
     "data": {
      "text/plain": [
       "<matplotlib.axes._subplots.AxesSubplot at 0x7f914555cb70>"
      ]
     },
     "execution_count": 59,
     "metadata": {},
     "output_type": "execute_result"
    },
    {
     "data": {
      "image/png": "[encoded data removed]",
      "text/plain": [
       "<matplotlib.figure.Figure at 0x7f914557bb38>"
      ]
     },
     "metadata": {
      "needs_background": "light"
     },
     "output_type": "display_data"
    }
   ],
   "source": [
    "new_X.plot(x='avgbal_m1', y ='RtlTxns_cnt_m2',c='target',kind='scatter',colormap='viridis', figsize=(10,10))"
   ]
  },
  {
   "cell_type": "markdown",
   "metadata": {},
   "source": [
    "#### to find the optimal number of clusters 'k' use the elbow method in our case for whole data it is around 2 to 5 , most optimal being 4"
   ]
  },
  {
   "cell_type": "code",
   "execution_count": 28,
   "metadata": {},
   "outputs": [
    {
     "data": {
      "image/png": "[encoded data removed]",
      "text/plain": [
       "<matplotlib.figure.Figure at 0x7f06ad792d68>"
      ]
     },
     "metadata": {
      "needs_background": "light"
     },
     "output_type": "display_data"
    }
   ],
   "source": [
    "from sklearn.cluster import KMeans\n",
    "from matplotlib import pyplot as plt\n",
    "wcss = []\n",
    "for i in range(1,11):\n",
    "    km=KMeans(n_clusters=i,init='k-means++', max_iter=300, n_init=10, random_state=0)\n",
    "    km.fit(X)\n",
    "    wcss.append(km.inertia_)TT\n",
    "plt.plot(range(1,11),wcss)\n",
    "plt.title('Elbow Method')\n",
    "plt.xlabel('Number of clusters')\n",
    "plt.ylabel('wcss')\n",
    "plt.show()"
   ]
  },
  {
   "cell_type": "markdown",
   "metadata": {},
   "source": [
    "#### generic customer segments can be made by using all features but before that you can reduce dimensionality as well"
   ]
  },
  {
   "cell_type": "code",
   "execution_count": 21,
   "metadata": {},
   "outputs": [
    {
     "name": "stdout",
     "output_type": "stream",
     "text": [
      "0.9550626578329411\n"
     ]
    }
   ],
   "source": [
    "from sklearn.decomposition import PCA\n",
    "pca = PCA(n_components=5)\n",
    "pca_result = pca.fit_transform(pandas.DataFrame(new_X))\n",
    "sum=0\n",
    "for x in pca.explained_variance_ratio_:\n",
    "    sum=sum+x\n",
    "print(sum)"
   ]
  },
  {
   "cell_type": "code",
   "execution_count": 29,
   "metadata": {},
   "outputs": [],
   "source": [
    "##Fitting kmeans to the dataset with k=4\n",
    "from sklearn.cluster import KMeans\n",
    "km4=KMeans(n_clusters=4,init='k-means++', max_iter=200, n_init=10, random_state=0)\n",
    "y_means = km4.fit_predict(new_X)"
   ]
  },
  {
   "cell_type": "code",
   "execution_count": 30,
   "metadata": {},
   "outputs": [
    {
     "data": {
      "image/png": "[encoded data removed]",
      "text/plain": [
       "<matplotlib.figure.Figure at 0x7fabc3f9f748>"
      ]
     },
     "metadata": {
      "needs_background": "light"
     },
     "output_type": "display_data"
    }
   ],
   "source": [
    "#Visualizing the clusters for k=4\n",
    "from matplotlib import pyplot as plt\n",
    "plt.scatter(km4.cluster_centers_[:,0], km4.cluster_centers_[:,1],s=200,marker='s', c='red', alpha=0.7, label='Centroids')\n",
    "plt.title('Customer segments')\n",
    "plt.xlabel('Different customer')\n",
    "plt.ylabel('Their behaviour')\n",
    "plt.legend()\n",
    "plt.show()"
   ]
  },
  {
   "cell_type": "markdown",
   "metadata": {},
   "source": [
    "##### clustering on few features"
   ]
  },
  {
   "cell_type": "code",
   "execution_count": 87,
   "metadata": {},
   "outputs": [],
   "source": [
    "def doKmeans(X, n_clusts=4):\n",
    "    model = KMeans(n_clusters=n_clusts)\n",
    "    model.fit(X)\n",
    "    clust_labels = model.predict(X)\n",
    "    cent = model.cluster_centers_\n",
    "    return (clust_labels, cent)\n",
    "\n",
    "clust_labels, cent = doKmeans(new_X.iloc[:,3:10], 4)\n",
    "kmeans = pandas.DataFrame(clust_labels)\n",
    "new_X['kmeans']=kmeans"
   ]
  },
  {
   "cell_type": "markdown",
   "metadata": {},
   "source": [
    "### play with different features get different customer segments. for profibility, for recent active, for finding loyal , for recommendations"
   ]
  },
  {
   "cell_type": "code",
   "execution_count": 88,
   "metadata": {},
   "outputs": [
    {
     "data": {
      "text/plain": [
       "<matplotlib.colorbar.Colorbar at 0x7fabdf215978>"
      ]
     },
     "execution_count": 88,
     "metadata": {},
     "output_type": "execute_result"
    },
    {
     "data": {
      "image/png": "[encoded data removed]",
      "text/plain": [
       "<matplotlib.figure.Figure at 0x7fabdf4dc940>"
      ]
     },
     "metadata": {
      "needs_background": "light"
     },
     "output_type": "display_data"
    }
   ],
   "source": [
    "fig = plt.figure()\n",
    "ax = fig.add_subplot(111)\n",
    "scatter = ax.scatter(new_X['ActiveSinceDays'],new_X['avgbal_m0'],\n",
    "                     c=new_X['kmeans'],s=50)\n",
    "ax.set_title('K-Means Clustering')\n",
    "ax.set_xlabel('RtlTxn_dayscnt')\n",
    "ax.set_ylabel('avgbal')\n",
    "plt.colorbar(scatter)"
   ]
  },
  {
   "cell_type": "markdown",
   "metadata": {},
   "source": [
    "### My kernel died many times while plotting, it is taking/ took a lot of time to fit on the dataset I would have done validation myself but since the kernel was busy & due to lack of time I can only mention simple techniques we can use like weighted minimum distance, gini coefficient or the mostly used Silhoutte coefficient. This is what I was able to do in the given time. It was fun thanks for giving me this opportunity"
   ]
  },
  {
   "cell_type": "code",
   "execution_count": null,
   "metadata": {},
   "outputs": [],
   "source": []
  }
 ],
 "metadata": {
  "kernelspec": {
   "display_name": "Python 3",
   "language": "python",
   "name": "python3"
  },
  "language_info": {
   "codemirror_mode": {
    "name": "ipython",
    "version": 3
   },
   "file_extension": ".py",
   "mimetype": "text/x-python",
   "name": "python",
   "nbconvert_exporter": "python",
   "pygments_lexer": "ipython3",
   "version": "3.5.6"
  }
 },
 "nbformat": 4,
 "nbformat_minor": 2
}
